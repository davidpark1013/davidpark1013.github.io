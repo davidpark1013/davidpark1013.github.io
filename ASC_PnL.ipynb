{
 "cells": [
  {
   "cell_type": "markdown",
   "metadata": {},
   "source": [
    "# Alpha Sherpa Capital Exercise\n",
    "PARK, Jung Jun David\n",
    "### Library Version:\n",
    "* pandas : 1.0.1\n",
    "* numpy  : 1.19.5"
   ]
  },
  {
   "cell_type": "code",
   "execution_count": 1,
   "metadata": {},
   "outputs": [],
   "source": [
    "# Importing Required Libraries\n",
    "import pandas as pd\n",
    "import matplotlib.pyplot as plt\n",
    "import math as math\n",
    "import numpy as np\n",
    "import FinanceDataReader as fdr\n",
    "from datetime import datetime, timedelta\n",
    "from pandas import Timestamp"
   ]
  },
  {
   "cell_type": "markdown",
   "metadata": {},
   "source": [
    "### Loading CSV file as DataFrame"
   ]
  },
  {
   "cell_type": "code",
   "execution_count": 2,
   "metadata": {},
   "outputs": [],
   "source": [
    "raw_df = pd.read_csv('/Users/david/Documents/Intern-Sample-PNL-2Months.csv', header = 0, index_col = 0)"
   ]
  },
  {
   "cell_type": "code",
   "execution_count": 3,
   "metadata": {},
   "outputs": [
    {
     "data": {
      "text/html": [
       "<div>\n",
       "<style scoped>\n",
       "    .dataframe tbody tr th:only-of-type {\n",
       "        vertical-align: middle;\n",
       "    }\n",
       "\n",
       "    .dataframe tbody tr th {\n",
       "        vertical-align: top;\n",
       "    }\n",
       "\n",
       "    .dataframe thead th {\n",
       "        text-align: right;\n",
       "    }\n",
       "</style>\n",
       "<table border=\"1\" class=\"dataframe\">\n",
       "  <thead>\n",
       "    <tr style=\"text-align: right;\">\n",
       "      <th></th>\n",
       "      <th>ATR</th>\n",
       "      <th>Reason</th>\n",
       "      <th>Side</th>\n",
       "      <th>ATR(x)</th>\n",
       "      <th>ATR Used</th>\n",
       "      <th>Risk</th>\n",
       "      <th>Position</th>\n",
       "      <th>Position(R)</th>\n",
       "      <th>Entry Price</th>\n",
       "      <th>STOP LOSS PRICE</th>\n",
       "      <th>...</th>\n",
       "      <th>Day 4 Date</th>\n",
       "      <th>Day 4 High</th>\n",
       "      <th>Day 4 low</th>\n",
       "      <th>Day 4 open</th>\n",
       "      <th>Day 4 close</th>\n",
       "      <th>Day 5 Date</th>\n",
       "      <th>Day 5 High</th>\n",
       "      <th>Day 5 low</th>\n",
       "      <th>Day 5 open</th>\n",
       "      <th>Day 5 close</th>\n",
       "    </tr>\n",
       "    <tr>\n",
       "      <th>Ticker</th>\n",
       "      <th></th>\n",
       "      <th></th>\n",
       "      <th></th>\n",
       "      <th></th>\n",
       "      <th></th>\n",
       "      <th></th>\n",
       "      <th></th>\n",
       "      <th></th>\n",
       "      <th></th>\n",
       "      <th></th>\n",
       "      <th></th>\n",
       "      <th></th>\n",
       "      <th></th>\n",
       "      <th></th>\n",
       "      <th></th>\n",
       "      <th></th>\n",
       "      <th></th>\n",
       "      <th></th>\n",
       "      <th></th>\n",
       "      <th></th>\n",
       "      <th></th>\n",
       "    </tr>\n",
       "  </thead>\n",
       "  <tbody>\n",
       "    <tr>\n",
       "      <th>TAN US Equity</th>\n",
       "      <td>5.01</td>\n",
       "      <td>AH+</td>\n",
       "      <td>long</td>\n",
       "      <td>1.0</td>\n",
       "      <td>5.01</td>\n",
       "      <td>2000.0</td>\n",
       "      <td>399.20</td>\n",
       "      <td>400.0</td>\n",
       "      <td>121.63</td>\n",
       "      <td>116.62</td>\n",
       "      <td>...</td>\n",
       "      <td>1/12/2021</td>\n",
       "      <td>117.72</td>\n",
       "      <td>113.45</td>\n",
       "      <td>117.22</td>\n",
       "      <td>115.63</td>\n",
       "      <td>1/13/2021</td>\n",
       "      <td>116.26</td>\n",
       "      <td>113.04</td>\n",
       "      <td>116.16</td>\n",
       "      <td>114.46</td>\n",
       "    </tr>\n",
       "    <tr>\n",
       "      <th>ARKK US Equity</th>\n",
       "      <td>4.83</td>\n",
       "      <td>reduce</td>\n",
       "      <td>long</td>\n",
       "      <td>2.0</td>\n",
       "      <td>9.66</td>\n",
       "      <td>2000.0</td>\n",
       "      <td>207.04</td>\n",
       "      <td>207.0</td>\n",
       "      <td>131.16</td>\n",
       "      <td>121.50</td>\n",
       "      <td>...</td>\n",
       "      <td>1/12/2021</td>\n",
       "      <td>141.66</td>\n",
       "      <td>139.04</td>\n",
       "      <td>140.18</td>\n",
       "      <td>140.99</td>\n",
       "      <td>1/13/2021</td>\n",
       "      <td>143.5</td>\n",
       "      <td>140.5</td>\n",
       "      <td>141.93</td>\n",
       "      <td>141.72</td>\n",
       "    </tr>\n",
       "    <tr>\n",
       "      <th>GBTC US Equity</th>\n",
       "      <td>0.86</td>\n",
       "      <td>HEDGE</td>\n",
       "      <td>long</td>\n",
       "      <td>1.5</td>\n",
       "      <td>1.29</td>\n",
       "      <td>2000.0</td>\n",
       "      <td>1552.19</td>\n",
       "      <td>1576.0</td>\n",
       "      <td>14.74</td>\n",
       "      <td>13.45</td>\n",
       "      <td>...</td>\n",
       "      <td>11/10/2020</td>\n",
       "      <td>17</td>\n",
       "      <td>16.24</td>\n",
       "      <td>16.94</td>\n",
       "      <td>16.51</td>\n",
       "      <td>11/11/2020</td>\n",
       "      <td>18</td>\n",
       "      <td>16.75</td>\n",
       "      <td>16.75</td>\n",
       "      <td>17.525</td>\n",
       "    </tr>\n",
       "    <tr>\n",
       "      <th>NIO US Equity</th>\n",
       "      <td>2.93</td>\n",
       "      <td>AH+</td>\n",
       "      <td>long</td>\n",
       "      <td>2.5</td>\n",
       "      <td>7.33</td>\n",
       "      <td>2000.0</td>\n",
       "      <td>273.04</td>\n",
       "      <td>273.0</td>\n",
       "      <td>51.29</td>\n",
       "      <td>43.97</td>\n",
       "      <td>...</td>\n",
       "      <td>1/7/2021</td>\n",
       "      <td>54.61</td>\n",
       "      <td>52.35</td>\n",
       "      <td>53.05</td>\n",
       "      <td>54.28</td>\n",
       "      <td>1/8/2021</td>\n",
       "      <td>59.31</td>\n",
       "      <td>55.88</td>\n",
       "      <td>57.76</td>\n",
       "      <td>58.92</td>\n",
       "    </tr>\n",
       "    <tr>\n",
       "      <th>QBTC CN Equity</th>\n",
       "      <td>2.52</td>\n",
       "      <td>reduced</td>\n",
       "      <td>long</td>\n",
       "      <td>1.0</td>\n",
       "      <td>2.52</td>\n",
       "      <td>9000.0</td>\n",
       "      <td>3571.43</td>\n",
       "      <td>2598.0</td>\n",
       "      <td>26.50</td>\n",
       "      <td>23.98</td>\n",
       "      <td>...</td>\n",
       "      <td>11/20/2020</td>\n",
       "      <td>29.6</td>\n",
       "      <td>27.99</td>\n",
       "      <td>28.19</td>\n",
       "      <td>29.49</td>\n",
       "      <td>11/23/2020</td>\n",
       "      <td>31</td>\n",
       "      <td>29.5</td>\n",
       "      <td>30.09</td>\n",
       "      <td>30.81</td>\n",
       "    </tr>\n",
       "    <tr>\n",
       "      <th>...</th>\n",
       "      <td>...</td>\n",
       "      <td>...</td>\n",
       "      <td>...</td>\n",
       "      <td>...</td>\n",
       "      <td>...</td>\n",
       "      <td>...</td>\n",
       "      <td>...</td>\n",
       "      <td>...</td>\n",
       "      <td>...</td>\n",
       "      <td>...</td>\n",
       "      <td>...</td>\n",
       "      <td>...</td>\n",
       "      <td>...</td>\n",
       "      <td>...</td>\n",
       "      <td>...</td>\n",
       "      <td>...</td>\n",
       "      <td>...</td>\n",
       "      <td>...</td>\n",
       "      <td>...</td>\n",
       "      <td>...</td>\n",
       "      <td>...</td>\n",
       "    </tr>\n",
       "    <tr>\n",
       "      <th>NaN</th>\n",
       "      <td>NaN</td>\n",
       "      <td>NaN</td>\n",
       "      <td>NaN</td>\n",
       "      <td>NaN</td>\n",
       "      <td>NaN</td>\n",
       "      <td>NaN</td>\n",
       "      <td>NaN</td>\n",
       "      <td>NaN</td>\n",
       "      <td>NaN</td>\n",
       "      <td>NaN</td>\n",
       "      <td>...</td>\n",
       "      <td>NaN</td>\n",
       "      <td>NaN</td>\n",
       "      <td>NaN</td>\n",
       "      <td>NaN</td>\n",
       "      <td>NaN</td>\n",
       "      <td>NaN</td>\n",
       "      <td>NaN</td>\n",
       "      <td>NaN</td>\n",
       "      <td>NaN</td>\n",
       "      <td>NaN</td>\n",
       "    </tr>\n",
       "    <tr>\n",
       "      <th>NaN</th>\n",
       "      <td>NaN</td>\n",
       "      <td>NaN</td>\n",
       "      <td>NaN</td>\n",
       "      <td>NaN</td>\n",
       "      <td>NaN</td>\n",
       "      <td>NaN</td>\n",
       "      <td>NaN</td>\n",
       "      <td>NaN</td>\n",
       "      <td>NaN</td>\n",
       "      <td>NaN</td>\n",
       "      <td>...</td>\n",
       "      <td>NaN</td>\n",
       "      <td>NaN</td>\n",
       "      <td>NaN</td>\n",
       "      <td>NaN</td>\n",
       "      <td>NaN</td>\n",
       "      <td>NaN</td>\n",
       "      <td>NaN</td>\n",
       "      <td>NaN</td>\n",
       "      <td>NaN</td>\n",
       "      <td>NaN</td>\n",
       "    </tr>\n",
       "    <tr>\n",
       "      <th>NaN</th>\n",
       "      <td>NaN</td>\n",
       "      <td>NaN</td>\n",
       "      <td>NaN</td>\n",
       "      <td>NaN</td>\n",
       "      <td>NaN</td>\n",
       "      <td>NaN</td>\n",
       "      <td>NaN</td>\n",
       "      <td>NaN</td>\n",
       "      <td>NaN</td>\n",
       "      <td>NaN</td>\n",
       "      <td>...</td>\n",
       "      <td>NaN</td>\n",
       "      <td>NaN</td>\n",
       "      <td>NaN</td>\n",
       "      <td>NaN</td>\n",
       "      <td>NaN</td>\n",
       "      <td>NaN</td>\n",
       "      <td>NaN</td>\n",
       "      <td>NaN</td>\n",
       "      <td>NaN</td>\n",
       "      <td>NaN</td>\n",
       "    </tr>\n",
       "    <tr>\n",
       "      <th>NaN</th>\n",
       "      <td>NaN</td>\n",
       "      <td>NaN</td>\n",
       "      <td>NaN</td>\n",
       "      <td>NaN</td>\n",
       "      <td>NaN</td>\n",
       "      <td>NaN</td>\n",
       "      <td>NaN</td>\n",
       "      <td>NaN</td>\n",
       "      <td>NaN</td>\n",
       "      <td>NaN</td>\n",
       "      <td>...</td>\n",
       "      <td>1/4/1900</td>\n",
       "      <td>#N/A Invalid Security</td>\n",
       "      <td>#N/A Invalid Security</td>\n",
       "      <td>#N/A Mandatory parameter [SECURITY] cannot be ...</td>\n",
       "      <td>#N/A Mandatory parameter [SECURITY] cannot be ...</td>\n",
       "      <td>1/5/1900</td>\n",
       "      <td>#N/A Invalid Security</td>\n",
       "      <td>#N/A Invalid Security</td>\n",
       "      <td>#N/A Mandatory parameter [SECURITY] cannot be ...</td>\n",
       "      <td>#N/A Mandatory parameter [SECURITY] cannot be ...</td>\n",
       "    </tr>\n",
       "    <tr>\n",
       "      <th>NaN</th>\n",
       "      <td>NaN</td>\n",
       "      <td>NaN</td>\n",
       "      <td>NaN</td>\n",
       "      <td>NaN</td>\n",
       "      <td>NaN</td>\n",
       "      <td>NaN</td>\n",
       "      <td>NaN</td>\n",
       "      <td>NaN</td>\n",
       "      <td>NaN</td>\n",
       "      <td>NaN</td>\n",
       "      <td>...</td>\n",
       "      <td>1/4/1900</td>\n",
       "      <td>#N/A Invalid Security</td>\n",
       "      <td>#N/A Invalid Security</td>\n",
       "      <td>#N/A Mandatory parameter [SECURITY] cannot be ...</td>\n",
       "      <td>#N/A Mandatory parameter [SECURITY] cannot be ...</td>\n",
       "      <td>1/5/1900</td>\n",
       "      <td>#N/A Invalid Security</td>\n",
       "      <td>#N/A Invalid Security</td>\n",
       "      <td>#N/A Mandatory parameter [SECURITY] cannot be ...</td>\n",
       "      <td>#N/A Mandatory parameter [SECURITY] cannot be ...</td>\n",
       "    </tr>\n",
       "  </tbody>\n",
       "</table>\n",
       "<p>484 rows × 41 columns</p>\n",
       "</div>"
      ],
      "text/plain": [
       "                 ATR   Reason  Side  ATR(x)  ATR Used    Risk  Position  \\\n",
       "Ticker                                                                    \n",
       "TAN US Equity   5.01      AH+  long     1.0      5.01  2000.0    399.20   \n",
       "ARKK US Equity  4.83   reduce  long     2.0      9.66  2000.0    207.04   \n",
       "GBTC US Equity  0.86    HEDGE  long     1.5      1.29  2000.0   1552.19   \n",
       "NIO US Equity   2.93      AH+  long     2.5      7.33  2000.0    273.04   \n",
       "QBTC CN Equity  2.52  reduced  long     1.0      2.52  9000.0   3571.43   \n",
       "...              ...      ...   ...     ...       ...     ...       ...   \n",
       "NaN              NaN      NaN   NaN     NaN       NaN     NaN       NaN   \n",
       "NaN              NaN      NaN   NaN     NaN       NaN     NaN       NaN   \n",
       "NaN              NaN      NaN   NaN     NaN       NaN     NaN       NaN   \n",
       "NaN              NaN      NaN   NaN     NaN       NaN     NaN       NaN   \n",
       "NaN              NaN      NaN   NaN     NaN       NaN     NaN       NaN   \n",
       "\n",
       "                Position(R)  Entry Price  STOP LOSS PRICE  ...  Day 4 Date  \\\n",
       "Ticker                                                     ...               \n",
       "TAN US Equity         400.0       121.63           116.62  ...   1/12/2021   \n",
       "ARKK US Equity        207.0       131.16           121.50  ...   1/12/2021   \n",
       "GBTC US Equity       1576.0        14.74            13.45  ...  11/10/2020   \n",
       "NIO US Equity         273.0        51.29            43.97  ...    1/7/2021   \n",
       "QBTC CN Equity       2598.0        26.50            23.98  ...  11/20/2020   \n",
       "...                     ...          ...              ...  ...         ...   \n",
       "NaN                     NaN          NaN              NaN  ...         NaN   \n",
       "NaN                     NaN          NaN              NaN  ...         NaN   \n",
       "NaN                     NaN          NaN              NaN  ...         NaN   \n",
       "NaN                     NaN          NaN              NaN  ...    1/4/1900   \n",
       "NaN                     NaN          NaN              NaN  ...    1/4/1900   \n",
       "\n",
       "                           Day 4 High              Day 4 low  \\\n",
       "Ticker                                                         \n",
       "TAN US Equity                  117.72                 113.45   \n",
       "ARKK US Equity                 141.66                 139.04   \n",
       "GBTC US Equity                     17                  16.24   \n",
       "NIO US Equity                   54.61                  52.35   \n",
       "QBTC CN Equity                   29.6                  27.99   \n",
       "...                               ...                    ...   \n",
       "NaN                               NaN                    NaN   \n",
       "NaN                               NaN                    NaN   \n",
       "NaN                               NaN                    NaN   \n",
       "NaN             #N/A Invalid Security  #N/A Invalid Security   \n",
       "NaN             #N/A Invalid Security  #N/A Invalid Security   \n",
       "\n",
       "                                                       Day 4 open  \\\n",
       "Ticker                                                              \n",
       "TAN US Equity                                              117.22   \n",
       "ARKK US Equity                                             140.18   \n",
       "GBTC US Equity                                              16.94   \n",
       "NIO US Equity                                               53.05   \n",
       "QBTC CN Equity                                              28.19   \n",
       "...                                                           ...   \n",
       "NaN                                                           NaN   \n",
       "NaN                                                           NaN   \n",
       "NaN                                                           NaN   \n",
       "NaN             #N/A Mandatory parameter [SECURITY] cannot be ...   \n",
       "NaN             #N/A Mandatory parameter [SECURITY] cannot be ...   \n",
       "\n",
       "                                                      Day 4 close  Day 5 Date  \\\n",
       "Ticker                                                                          \n",
       "TAN US Equity                                              115.63   1/13/2021   \n",
       "ARKK US Equity                                             140.99   1/13/2021   \n",
       "GBTC US Equity                                              16.51  11/11/2020   \n",
       "NIO US Equity                                               54.28    1/8/2021   \n",
       "QBTC CN Equity                                              29.49  11/23/2020   \n",
       "...                                                           ...         ...   \n",
       "NaN                                                           NaN         NaN   \n",
       "NaN                                                           NaN         NaN   \n",
       "NaN                                                           NaN         NaN   \n",
       "NaN             #N/A Mandatory parameter [SECURITY] cannot be ...    1/5/1900   \n",
       "NaN             #N/A Mandatory parameter [SECURITY] cannot be ...    1/5/1900   \n",
       "\n",
       "                           Day 5 High              Day 5 low  \\\n",
       "Ticker                                                         \n",
       "TAN US Equity                  116.26                 113.04   \n",
       "ARKK US Equity                  143.5                  140.5   \n",
       "GBTC US Equity                     18                  16.75   \n",
       "NIO US Equity                   59.31                  55.88   \n",
       "QBTC CN Equity                     31                   29.5   \n",
       "...                               ...                    ...   \n",
       "NaN                               NaN                    NaN   \n",
       "NaN                               NaN                    NaN   \n",
       "NaN                               NaN                    NaN   \n",
       "NaN             #N/A Invalid Security  #N/A Invalid Security   \n",
       "NaN             #N/A Invalid Security  #N/A Invalid Security   \n",
       "\n",
       "                                                       Day 5 open  \\\n",
       "Ticker                                                              \n",
       "TAN US Equity                                              116.16   \n",
       "ARKK US Equity                                             141.93   \n",
       "GBTC US Equity                                              16.75   \n",
       "NIO US Equity                                               57.76   \n",
       "QBTC CN Equity                                              30.09   \n",
       "...                                                           ...   \n",
       "NaN                                                           NaN   \n",
       "NaN                                                           NaN   \n",
       "NaN                                                           NaN   \n",
       "NaN             #N/A Mandatory parameter [SECURITY] cannot be ...   \n",
       "NaN             #N/A Mandatory parameter [SECURITY] cannot be ...   \n",
       "\n",
       "                                                      Day 5 close  \n",
       "Ticker                                                             \n",
       "TAN US Equity                                              114.46  \n",
       "ARKK US Equity                                             141.72  \n",
       "GBTC US Equity                                             17.525  \n",
       "NIO US Equity                                               58.92  \n",
       "QBTC CN Equity                                              30.81  \n",
       "...                                                           ...  \n",
       "NaN                                                           NaN  \n",
       "NaN                                                           NaN  \n",
       "NaN                                                           NaN  \n",
       "NaN             #N/A Mandatory parameter [SECURITY] cannot be ...  \n",
       "NaN             #N/A Mandatory parameter [SECURITY] cannot be ...  \n",
       "\n",
       "[484 rows x 41 columns]"
      ]
     },
     "execution_count": 3,
     "metadata": {},
     "output_type": "execute_result"
    }
   ],
   "source": [
    "raw_df"
   ]
  },
  {
   "cell_type": "markdown",
   "metadata": {},
   "source": [
    "### Pre-processing Functions and Related Items"
   ]
  },
  {
   "cell_type": "code",
   "execution_count": 4,
   "metadata": {},
   "outputs": [],
   "source": [
    "countries = ['Hong Kong','Switzerland', 'Germany', 'France','Italy','Netherlands', 'Spain','Finland',\n",
    "             'Sweden','Denmark', 'Norway', 'London', 'Belgium','Austria','Portugal', 'Japan', 'USA', 'Canada']\n",
    "dict_countries = {\"HK Equity\":'Hong Kong', \"SW Equity\":'Switzerland', \"GY Equity\":'Germany', \"FP Equity\":'France',\n",
    "                  \"IM Equity\":'Italy',\"NA Equity\":'Netherlands', \"SM Equity\":'Spain',\"FH Equity\":'Finland',\"SS Equity\": 'Sweden',\n",
    "                  \"DC Equity\":'Denmark', \"NO Equity\":'Norway', \"LN Equity\":'London',\"BB Equity\": 'Belgium', \"AV Equity\":'Austria',\n",
    "                  \"PL Equity\":'Portugal', \"JT Equity\":'Japan', \"US Equity\":'USA', \"CN Equity\":'Canada'}\n",
    "add_dict = {'HKD':'Hong Kong', 'EUR':'Europe','CHF':'Switzerland','SEK':'Sweden',\n",
    "             'DKK':'Denmark','NOK':'Norway', 'GBp':'London', 'USD':'USA', 'CAD':'Canada'}\n",
    "\n",
    "def clean_table_task1(df):\n",
    "    df = df.rename(columns={'Unnamed: 17': 'Market'})\n",
    "    df = df.dropna(how = 'all')\n",
    "    df = df.dropna(subset = ['Risk'])\n",
    "    return df\n",
    "\n",
    "def convert2datetime(df):\n",
    "    '''\n",
    "        Columns 'Entry Date' and 'Exit Date' includes the time data.\n",
    "        However, the data type is not consistent - consists of string and datetime data types\n",
    "        This function converts string time data into datetime type\n",
    "    '''\n",
    "    columnList = df.columns.to_list()\n",
    "    Day_2_date = df.columns.tolist().index('Day 2 Date')\n",
    "    tgt_col_idxs = [ columnList.index(tgt_col) for tgt_col in ['Entry Date', 'Exit Date']]\n",
    "    for tgt_idx in tgt_col_idxs:\n",
    "        for row_idx in range(len(df)):\n",
    "            checker = df.iat[row_idx, tgt_idx]\n",
    "            df.iat[row_idx, tgt_idx] = parsing_date(checker)\n",
    "            \n",
    "    '''\n",
    "        There are some errors with date inputs.\n",
    "        Ex. When Entry Date: 2/1/2021 but Exit Date is 12/1/2021 for AG US Equity.\n",
    "        Exit Date of 1/12/2021 would also not make sense as it is earlier than Entry Date\n",
    "        Hence access Day 1 Date to confirm the Entry Date.\n",
    "        If the Exit Date is still before the Entry Date, then assume Entry = Exit\n",
    "    '''\n",
    "    for r_idx in range(len(df)):\n",
    "        if (df.iloc[r_idx, tgt_col_idxs[0]] > df.iloc[r_idx, tgt_col_idxs[1]]):\n",
    "            df.iloc[r_idx, tgt_col_idxs[0]] = datetime.strptime(df.iloc[r_idx, Day_2_date],'%m/%d/%Y') - timedelta(days= 1)\n",
    "            \n",
    "            if (df.iloc[r_idx, tgt_col_idxs[0]] > df.iloc[r_idx, tgt_col_idxs[1]]):\n",
    "                df.iloc[r_idx, tgt_col_idxs[1]] = df.iloc[r_idx, tgt_col_idxs[0]]   \n",
    "    return df\n",
    "\n",
    "def parsing_date(date_string):\n",
    "    for date_format in ('%m/%d/%Y', '%d-%b','%b-%d','%m/%d','%d/%m'):\n",
    "        try:\n",
    "            if (date_format == '%m/%d/%Y'):\n",
    "                target = datetime.strptime(date_string, date_format)\n",
    "                if (target > datetime.strptime('03/01/2021','%m/%d/%Y')):\n",
    "                    target = datetime.strptime(date_string, '%d/%m/%Y')\n",
    "            \n",
    "            elif (date_format == '%d-%b'):\n",
    "                target = datetime.strptime(date_string, date_format)\n",
    "                target = target.replace(year= 2021)\n",
    "            \n",
    "            elif (date_format == '%b-%d'):\n",
    "                target = datetime.strptime(date_string, date_format)\n",
    "                target = target.replace(year= 2021)\n",
    "            \n",
    "            elif (date_format == '%m/%d'):\n",
    "                target = datetime.strptime(date_string, date_format)\n",
    "                target = target.replace(year= 2021)\n",
    "                if (target > datetime.strptime('03/01/2021', '%m/%d/%Y')):\n",
    "                    target = datetime.strptime(date_string, '%d/%m')\n",
    "                    target = target.replace(year= 2021)\n",
    "\n",
    "            return target\n",
    "        \n",
    "        except ValueError:\n",
    "            pass\n",
    "    raise ValueError('no valid date format found')\n",
    "\n",
    "\n",
    "def assign_country_code_by_ticker(df):\n",
    "    market_col_idx = df.columns.tolist().index('Market')\n",
    "    df.iloc[:, market_col_idx] = [v[-9:] for v in df['Ticker'].values]\n",
    "    df['Market'] = df['Market'].map(dict_countries) ## fill Market column by using Ticker information and country data\n",
    "    not_yet_filled_idx_list = [idx for idx, c in enumerate(df['Market']) if c not in countries]\n",
    "    print(\"# of data is not yet filled - {} by ticker\".format(len(not_yet_filled_idx_list)))\n",
    "    return df, not_yet_filled_idx_list\n",
    "\n",
    "def assign_country_code_by_currency(df, not_yet_filled_idx_list):    \n",
    "    '''\n",
    "        For ones that are not part of the dictionary, I assign their country code based on their Currency\n",
    "        For Euro, I arbitarily assigned Europe\n",
    "    '''\n",
    "    market_col_idx = df.columns.tolist().index('Market')\n",
    "    df.iloc[not_yet_filled_idx_list, market_col_idx] = df['Curncy'][not_yet_filled_idx_list].map(add_dict)\n",
    "    not_yet_filled_idx_list = [idx for idx, c in enumerate(df['Market']) if c not in countries]\n",
    "    print(\"# of data not yet filled - {}\".format(len(not_yet_filled_idx_list)))\n",
    "    return df, not_yet_filled_idx_list\n"
   ]
  },
  {
   "cell_type": "code",
   "execution_count": 5,
   "metadata": {},
   "outputs": [
    {
     "name": "stdout",
     "output_type": "stream",
     "text": [
      "# of data is not yet filled - 9 by ticker\n",
      "# of data not yet filled - 3\n",
      "138    Europe\n",
      "221    Europe\n",
      "229    Europe\n",
      "Name: Market, dtype: object\n"
     ]
    }
   ],
   "source": [
    "PnL = clean_table_task1(raw_df)\n",
    "PnL = convert2datetime(PnL)\n",
    "PnL = PnL[PnL.columns[0:17]]\n",
    "PnL = PnL.reset_index() ## extract index as a column 'Ticker'\n",
    "market_col_idx = PnL.columns.tolist().index('Market')\n",
    "PnL, not_yet_filled_idx_list = assign_country_code_by_ticker(PnL)\n",
    "PnL, not_yet_filled_idx_list = assign_country_code_by_currency(PnL, not_yet_filled_idx_list)\n",
    "print(PnL.iloc[not_yet_filled_idx_list, market_col_idx])\n",
    "# Assigned Europe for those as printed\n"
   ]
  },
  {
   "cell_type": "markdown",
   "metadata": {},
   "source": [
    "# P&L Analysis\n",
    "## Descriptive Analysis\n",
    "### By Market"
   ]
  },
  {
   "cell_type": "code",
   "execution_count": 6,
   "metadata": {},
   "outputs": [
    {
     "name": "stdout",
     "output_type": "stream",
     "text": [
      "Market\n",
      "Belgium           6525.46\n",
      "Canada          116634.94\n",
      "Denmark         -37927.26\n",
      "Europe          -11715.00\n",
      "Finland          -1870.69\n",
      "France            6356.92\n",
      "Germany          12388.21\n",
      "Hong Kong        39770.91\n",
      "Italy             -109.44\n",
      "London        -1321144.42\n",
      "Netherlands       2326.67\n",
      "Norway          -40035.04\n",
      "Portugal          -839.88\n",
      "Spain              939.82\n",
      "Sweden          -29268.70\n",
      "Switzerland       2515.51\n",
      "USA              32552.09\n",
      "Name: Realized gains, dtype: float64\n"
     ]
    },
    {
     "data": {
      "text/plain": [
       "Text(0, 0.5, 'Profit/Loss in Respective Currency')"
      ]
     },
     "execution_count": 6,
     "metadata": {},
     "output_type": "execute_result"
    },
    {
     "data": {
      "image/png": "[encoded data removed]",
      "text/plain": [
       "<Figure size 432x288 with 1 Axes>"
      ]
     },
     "metadata": {
      "needs_background": "light"
     },
     "output_type": "display_data"
    }
   ],
   "source": [
    "Market = PnL.groupby('Market').sum()\n",
    "print(Market['Realized gains'])\n",
    "Market['Realized gains'].plot.bar()\n",
    "plt.ylabel('Profit/Loss in Respective Currency')"
   ]
  },
  {
   "cell_type": "markdown",
   "metadata": {},
   "source": [
    "### By Currency"
   ]
  },
  {
   "cell_type": "code",
   "execution_count": 7,
   "metadata": {
    "scrolled": true
   },
   "outputs": [
    {
     "name": "stdout",
     "output_type": "stream",
     "text": [
      "Curncy\n",
      "CAD     116634.94\n",
      "CHF       2515.51\n",
      "DKK     -37927.26\n",
      "EUR      14002.07\n",
      "GBp   -1321144.42\n",
      "HKD      39770.91\n",
      "NOK     -40035.04\n",
      "SEK     -29268.70\n",
      "USD      32552.09\n",
      "Name: Realized gains, dtype: float64\n"
     ]
    },
    {
     "data": {
      "text/plain": [
       "Text(0, 0.5, 'Profit/Loss By Currency')"
      ]
     },
     "execution_count": 7,
     "metadata": {},
     "output_type": "execute_result"
    },
    {
     "data": {
      "image/png": "[encoded data removed]",
      "text/plain": [
       "<Figure size 432x288 with 1 Axes>"
      ]
     },
     "metadata": {
      "needs_background": "light"
     },
     "output_type": "display_data"
    }
   ],
   "source": [
    "currency = PnL.groupby('Curncy').sum()\n",
    "print(currency['Realized gains'])\n",
    "currency['Realized gains'].plot.bar()\n",
    "plt.ylabel('Profit/Loss By Currency')"
   ]
  },
  {
   "cell_type": "markdown",
   "metadata": {},
   "source": [
    "* Apparent that the trades that occured on the London Exchange showed weak performances\n",
    "* Will conduct further analysis on trades that occured on the London Exchange later"
   ]
  },
  {
   "cell_type": "markdown",
   "metadata": {},
   "source": [
    "### Integrate Currency: Keep the Currency\n",
    "Assume that you would keep the foreign currency for future trading purposes <br>\n",
    "Convert the Realized Gains in Currency of choice, quoted in today's FX rate. <br>\n",
    "* Note that this function is valid for Weekday usage (FX market is closed on weekends)\n",
    "* There is another function below that converts the gains with the FX rate as of Exit Date"
   ]
  },
  {
   "cell_type": "code",
   "execution_count": 8,
   "metadata": {},
   "outputs": [],
   "source": [
    "def currency_today(df, base_currency):\n",
    "    curr_list = list(df.groupby('Curncy').groups.keys())\n",
    "    if base_currency in curr_list: curr_list.remove(base_currency)\n",
    "    fx_rate= []\n",
    "    for currency in curr_list:\n",
    "        fx_rate.append(fdr.DataReader(currency+'/'+ base_currency, '2021-03-12')['Close'])\n",
    "        \n",
    "    return fx_rate\n",
    "\n",
    "calculate_currency = 'USD'\n",
    "fx_rate_today = currency_today(PnL,calculate_currency)"
   ]
  },
  {
   "cell_type": "code",
   "execution_count": 9,
   "metadata": {
    "scrolled": true
   },
   "outputs": [
    {
     "name": "stdout",
     "output_type": "stream",
     "text": [
      "Profit of  -1735538 USD  in the last two months with today's FX rate\n"
     ]
    }
   ],
   "source": [
    "profit_per_currency = currency['Realized gains']\n",
    "integrated_profit = 0\n",
    "j = 0\n",
    "for i in range(len(profit_per_currency.index)):\n",
    "    if (profit_per_currency.index[i] == calculate_currency):\n",
    "        continue\n",
    "    else:\n",
    "        integrated_profit += profit_per_currency[i] * fx_rate_today[j]\n",
    "        j += 1\n",
    "\n",
    "print(\"Profit of \",round(integrated_profit[0]),calculate_currency,\" in the last two months with today's FX rate\")"
   ]
  },
  {
   "cell_type": "markdown",
   "metadata": {},
   "source": [
    "### Integrate Currency: Change the Currency\n",
    "Convert the Realized Gains in Currency of choice, quoted in Exit Date's FX rate.\n",
    "* Note that it takes some time to run this. About 2 minutes."
   ]
  },
  {
   "cell_type": "code",
   "execution_count": 10,
   "metadata": {},
   "outputs": [
    {
     "name": "stdout",
     "output_type": "stream",
     "text": [
      "Profit of  -1652154 USD  in the last two months with Exit Date's FX rate\n"
     ]
    }
   ],
   "source": [
    "def currency_exit_date(df, base_currency):\n",
    "    gain_exit = 0\n",
    "    curr_col_idx = df.columns.get_loc('Curncy')\n",
    "    exit_col_idx = df.columns.get_loc('Exit Date')\n",
    "    gain_col_idx = df.columns.get_loc('Realized gains')\n",
    "    for i in range(len(df)):\n",
    "        tgt_curr = df.iloc[i,curr_col_idx]\n",
    "        tgt_date = df.iloc[i,exit_col_idx]\n",
    "        tgt_gain = df.iloc[i,gain_col_idx]\n",
    "        if (tgt_curr == base_currency):\n",
    "            gain_exit += tgt_gain\n",
    "        else:\n",
    "            fx_rate_exit = fdr.DataReader(tgt_curr + '/' + base_currency, tgt_date, tgt_date)['Close']\n",
    "            gain_exit += (tgt_gain * fx_rate_exit)[0]\n",
    "    return gain_exit\n",
    "\n",
    "calculate_currency = 'USD'\n",
    "print(\"Profit of \",round(currency_exit_date(PnL, calculate_currency)),calculate_currency,\" in the last two months with Exit Date's FX rate\")"
   ]
  },
  {
   "cell_type": "markdown",
   "metadata": {},
   "source": [
    "### Analysis in terms of Long/Short"
   ]
  },
  {
   "cell_type": "code",
   "execution_count": 11,
   "metadata": {},
   "outputs": [
    {
     "name": "stdout",
     "output_type": "stream",
     "text": [
      "# of Long/Short Strategies Executed\n",
      "Side\n",
      "long     256\n",
      "short    139\n",
      "Name: Realized gains, dtype: int64\n"
     ]
    },
    {
     "data": {
      "text/plain": [
       "Text(0.5, 1.0, '# of Long & Short')"
      ]
     },
     "execution_count": 11,
     "metadata": {},
     "output_type": "execute_result"
    },
    {
     "data": {
      "image/png": "[encoded data removed]",
      "text/plain": [
       "<Figure size 432x288 with 1 Axes>"
      ]
     },
     "metadata": {
      "needs_background": "light"
     },
     "output_type": "display_data"
    }
   ],
   "source": [
    "long_short = PnL.groupby('Side')['Realized gains']\n",
    "print(\"# of Long/Short Strategies Executed\")\n",
    "print(long_short.size())\n",
    "long_short.size().plot.bar()\n",
    "plt.title(\"# of Long & Short\")"
   ]
  },
  {
   "cell_type": "code",
   "execution_count": 138,
   "metadata": {},
   "outputs": [
    {
     "name": "stdout",
     "output_type": "stream",
     "text": [
      "Hit rate when executing a long strategy is  0.4453125\n",
      "Hit rate when executing a short strategy is  0.4748201438848921\n",
      "From this, it is evident that the short strategy has been more successful recently\n"
     ]
    }
   ],
   "source": [
    "hit_long = long_short.apply(lambda x: x[x > 0].count())[0]/long_short.count()[0]\n",
    "hit_short = long_short.apply(lambda x: x[x > 0].count())[1]/long_short.count()[1]\n",
    "\n",
    "print(\"Hit rate when executing a long strategy is \", hit_long)\n",
    "print(\"Hit rate when executing a short strategy is \", hit_short)\n",
    "print('From this, it is evident that the short strategy has been more successful recently')"
   ]
  },
  {
   "cell_type": "code",
   "execution_count": 13,
   "metadata": {},
   "outputs": [
    {
     "name": "stdout",
     "output_type": "stream",
     "text": [
      "# of Long/Short Strategies per Market\n",
      "Market       Side \n",
      "Belgium      short     3\n",
      "Canada       long      8\n",
      "             short     2\n",
      "Denmark      long      3\n",
      "             short     4\n",
      "Europe       short     3\n",
      "Finland      short     1\n",
      "France       long     13\n",
      "             short     4\n",
      "Germany      long     32\n",
      "             short    14\n",
      "Hong Kong    long     61\n",
      "             short    24\n",
      "Italy        long      6\n",
      "London       long     12\n",
      "             short     3\n",
      "Netherlands  long      5\n",
      "             short     1\n",
      "Norway       long      3\n",
      "Portugal     long      1\n",
      "Spain        long      5\n",
      "             short     1\n",
      "Sweden       long      4\n",
      "Switzerland  long     13\n",
      "             short     3\n",
      "USA          long     90\n",
      "             short    76\n",
      "Name: Realized gains, dtype: int64\n"
     ]
    },
    {
     "data": {
      "text/plain": [
       "Text(0, 0.5, '# of Trades')"
      ]
     },
     "execution_count": 13,
     "metadata": {},
     "output_type": "execute_result"
    },
    {
     "data": {
      "image/png": "[encoded data removed]",
      "text/plain": [
       "<Figure size 432x288 with 1 Axes>"
      ]
     },
     "metadata": {
      "needs_background": "light"
     },
     "output_type": "display_data"
    }
   ],
   "source": [
    "perf_by_market = PnL.groupby(['Market','Side'])['Realized gains']\n",
    "print(\"# of Long/Short Strategies per Market\")\n",
    "print(perf_by_market.count())\n",
    "perf_by_market.count().plot.bar()\n",
    "plt.title('# of Long/Short Strategies / Market')\n",
    "plt.ylabel('# of Trades')"
   ]
  },
  {
   "cell_type": "code",
   "execution_count": 14,
   "metadata": {},
   "outputs": [
    {
     "name": "stdout",
     "output_type": "stream",
     "text": [
      "Hit Rate of Long/Short Strategies per Market\n",
      "Market       Side \n",
      "Belgium      short    1.000000\n",
      "Canada       long     0.625000\n",
      "             short    1.000000\n",
      "Denmark      long     0.000000\n",
      "             short    0.500000\n",
      "Europe       short    0.333333\n",
      "Finland      short    0.000000\n",
      "France       long     0.538462\n",
      "             short    0.750000\n",
      "Germany      long     0.593750\n",
      "             short    0.428571\n",
      "Hong Kong    long     0.409836\n",
      "             short    0.416667\n",
      "Italy        long     0.500000\n",
      "London       long     0.250000\n",
      "             short    0.333333\n",
      "Netherlands  long     0.800000\n",
      "             short    0.000000\n",
      "Norway       long     0.333333\n",
      "Portugal     long     0.000000\n",
      "Spain        long     0.600000\n",
      "             short    0.000000\n",
      "Sweden       long     0.250000\n",
      "Switzerland  long     0.538462\n",
      "             short    0.333333\n",
      "USA          long     0.400000\n",
      "             short    0.486842\n",
      "Name: Realized gains, dtype: float64\n"
     ]
    }
   ],
   "source": [
    "hit_by_market_ls = perf_by_market.apply(lambda x: x[x>0].count()) / perf_by_market.count()\n",
    "print(\"Hit Rate of Long/Short Strategies per Market\")\n",
    "print(hit_by_market_ls)"
   ]
  },
  {
   "cell_type": "markdown",
   "metadata": {},
   "source": [
    "### Average Holding Period\n",
    "* Non-trading days are not counted: Counted with Business Days"
   ]
  },
  {
   "cell_type": "code",
   "execution_count": 15,
   "metadata": {},
   "outputs": [
    {
     "name": "stderr",
     "output_type": "stream",
     "text": [
      "/Users/david/opt/anaconda3/lib/python3.7/site-packages/pandas/core/indexing.py:844: SettingWithCopyWarning: \n",
      "A value is trying to be set on a copy of a slice from a DataFrame.\n",
      "Try using .loc[row_indexer,col_indexer] = value instead\n",
      "\n",
      "See the caveats in the documentation: https://pandas.pydata.org/pandas-docs/stable/user_guide/indexing.html#returning-a-view-versus-a-copy\n",
      "  self.obj[key] = _infer_fill_value(value)\n",
      "/Users/david/opt/anaconda3/lib/python3.7/site-packages/pandas/core/indexing.py:965: SettingWithCopyWarning: \n",
      "A value is trying to be set on a copy of a slice from a DataFrame.\n",
      "Try using .loc[row_indexer,col_indexer] = value instead\n",
      "\n",
      "See the caveats in the documentation: https://pandas.pydata.org/pandas-docs/stable/user_guide/indexing.html#returning-a-view-versus-a-copy\n",
      "  self.obj[item] = s\n"
     ]
    },
    {
     "name": "stdout",
     "output_type": "stream",
     "text": [
      "Market\n",
      "Belgium         2.333333\n",
      "Canada         15.700000\n",
      "Denmark         2.142857\n",
      "Europe          0.500000\n",
      "Finland         0.000000\n",
      "France          2.941176\n",
      "Germany         3.934783\n",
      "Hong Kong       2.253012\n",
      "Italy           1.833333\n",
      "London          1.533333\n",
      "Netherlands     4.333333\n",
      "Norway          3.000000\n",
      "Portugal        2.000000\n",
      "Spain           4.333333\n",
      "Sweden          2.500000\n",
      "Switzerland     1.437500\n",
      "USA             5.271084\n",
      "Name: Hold Period, dtype: float64\n"
     ]
    },
    {
     "data": {
      "text/plain": [
       "Text(0, 0.5, 'Holding Days')"
      ]
     },
     "execution_count": 15,
     "metadata": {},
     "output_type": "execute_result"
    },
    {
     "data": {
      "image/png": "[encoded data removed]",
      "text/plain": [
       "<Figure size 432x288 with 1 Axes>"
      ]
     },
     "metadata": {
      "needs_background": "light"
     },
     "output_type": "display_data"
    }
   ],
   "source": [
    "omit_PnL = PnL[~PnL.Ticker.str.contains(\"Index\")]\n",
    "omit_PnL.loc[:,'Hold Period'] = 0\n",
    "for i in range(len(omit_PnL)):\n",
    "    entry_date = omit_PnL.iloc[i,omit_PnL.columns.get_loc('Entry Date')].date()\n",
    "    exit_date = omit_PnL.iloc[i,omit_PnL.columns.get_loc('Exit Date')].date()\n",
    "    date_diff = np.busday_count(entry_date, exit_date)\n",
    "    omit_PnL.iloc[i,omit_PnL.columns.get_loc('Hold Period')] = date_diff\n",
    "\n",
    "hold_period = omit_PnL.groupby('Market')['Hold Period'].sum() / omit_PnL.groupby('Market')['Hold Period'].count()\n",
    "print(hold_period)\n",
    "hold_period.plot.bar()\n",
    "plt.ylabel('Holding Days')"
   ]
  },
  {
   "cell_type": "markdown",
   "metadata": {},
   "source": [
    "### Realized R"
   ]
  },
  {
   "cell_type": "code",
   "execution_count": 140,
   "metadata": {},
   "outputs": [
    {
     "data": {
      "text/plain": [
       "Text(0.5, 1.0, 'Realized R by Market')"
      ]
     },
     "execution_count": 140,
     "metadata": {},
     "output_type": "execute_result"
    },
    {
     "data": {
      "image/png": "[encoded data removed]",
      "text/plain": [
       "<Figure size 432x288 with 1 Axes>"
      ]
     },
     "metadata": {
      "needs_background": "light"
     },
     "output_type": "display_data"
    }
   ],
   "source": [
    "r_per_market = PnL.groupby('Market')['Realized R']\n",
    "r_per_market.sum()\n",
    "r_per_market.sum().plot.bar()\n",
    "plt.ylabel('R Value')\n",
    "plt.title('Realized R by Market')"
   ]
  },
  {
   "cell_type": "markdown",
   "metadata": {},
   "source": [
    "The graph clearly shows that the best R performances were from the USA and Canada <br>\n",
    "While the worst trades were in London and Europe"
   ]
  },
  {
   "cell_type": "markdown",
   "metadata": {},
   "source": [
    "### Expectancy per Market"
   ]
  },
  {
   "cell_type": "code",
   "execution_count": 141,
   "metadata": {
    "scrolled": true
   },
   "outputs": [
    {
     "name": "stdout",
     "output_type": "stream",
     "text": [
      "Market\n",
      "Belgium         2175.153333\n",
      "Canada         11663.494000\n",
      "Denmark        -5418.180000\n",
      "Europe         -3905.000000\n",
      "Finland        -1870.690000\n",
      "France           373.936471\n",
      "Germany          269.308913\n",
      "Hong Kong        337.863721\n",
      "Italy            -18.240000\n",
      "London        -88076.294667\n",
      "Netherlands      387.778333\n",
      "Norway        -13345.013333\n",
      "Portugal        -839.880000\n",
      "Spain            156.636667\n",
      "Sweden         -7317.175000\n",
      "Switzerland      157.219375\n",
      "USA              196.096928\n",
      "Name: Realized gains, dtype: float64\n"
     ]
    },
    {
     "data": {
      "text/plain": [
       "Text(0.5, 1.0, 'Expectancy / Market')"
      ]
     },
     "execution_count": 141,
     "metadata": {},
     "output_type": "execute_result"
    },
    {
     "data": {
      "image/png": "[encoded data removed]",
      "text/plain": [
       "<Figure size 432x288 with 1 Axes>"
      ]
     },
     "metadata": {
      "needs_background": "light"
     },
     "output_type": "display_data"
    }
   ],
   "source": [
    "exp_per_market = PnL.groupby('Market')['Realized gains']\n",
    "hit_by_market = exp_per_market.apply(lambda x: x[x>0].count()) / exp_per_market.count()\n",
    "avg_win = exp_per_market.apply(lambda x: x[x>0].sum()) / exp_per_market.apply(lambda x: x[x>0].count())\n",
    "# This part to prevent NaN that arises from 0 Win in certain regions such as Finland\n",
    "for i in range(len(avg_win)):\n",
    "    if (math.isnan(avg_win[i])):\n",
    "        avg_win.iloc[i] = 0\n",
    "        \n",
    "avg_loss = exp_per_market.apply(lambda x: x[x<0].sum()) / exp_per_market.apply(lambda x: x[x<0].count())\n",
    "for i in range(len(avg_loss)):\n",
    "    if (math.isnan(avg_loss[i])):\n",
    "        avg_loss.iloc[i] = 0\n",
    "        \n",
    "expectancy = (hit_by_market * avg_win) + ((1-hit_by_market) * avg_loss)\n",
    "print(expectancy)\n",
    "expectancy.plot.bar()\n",
    "plt.ylabel(\"Expectancy\")\n",
    "plt.title(\"Expectancy / Market\")\n"
   ]
  },
  {
   "cell_type": "markdown",
   "metadata": {},
   "source": [
    "## Conditional Analysis"
   ]
  },
  {
   "cell_type": "markdown",
   "metadata": {},
   "source": [
    "### Pre-Processing Functions for Conditional Analysis"
   ]
  },
  {
   "cell_type": "code",
   "execution_count": 18,
   "metadata": {},
   "outputs": [],
   "source": [
    "def clean_table_task2(df):\n",
    "    clean_df = df.drop('GBTC UV Equity')\n",
    "    clean_df = clean_df.reset_index()\n",
    "    clean_df = clean_df.dropna(how='all', axis=1) \n",
    "    clean_df = clean_df.dropna(subset=clean_df.columns[16:])\n",
    "    string_to_float = clean_df.columns[17:]\n",
    "    clean_df[string_to_float] = clean_df[string_to_float].apply(pd.to_numeric, errors='coerce', axis=1) \n",
    "    clean_df.columns = clean_df.columns.str.title()  #Matched the column names as Capital after each space\n",
    "    return clean_df\n",
    "\n",
    "def initialize_r(df):\n",
    "    r_score = pd.DataFrame(index = df['Ticker'],columns = {'Day 1','Day 2', 'Day 3', 'Day 4', 'Day 5','Risk'})\n",
    "    r_score = r_score[['Day 1','Day 2', 'Day 3', 'Day 4', 'Day 5','Risk']]\n",
    "    return r_score\n",
    "\n",
    "def fill_R (df,r,calc_type, ATR):   \n",
    "    for i in range(len(df)):\n",
    "        r['Risk'][i] = df['Risk'].iloc[i]\n",
    "        for j in range(1,6):\n",
    "            if (j > 1 and r.iat[i,j-3]==-1): #Position out as soon as it hits -1\n",
    "                r.iat[i,j-1] = -1\n",
    "            else:\n",
    "                if (calc_type == 'day'):\n",
    "                    r.iat[i,j-1] = calculate_R(df[i:i+1],str(j))\n",
    "                else:\n",
    "                    r.iat[i,j-1] = calculate_R_ATR(df[i:i+1],str(j),ATR)\n",
    "                    \n",
    "    return r\n",
    "\n",
    "def calculate_R(df,i):\n",
    "    \n",
    "    # Risk / ATR =  Position Size  1/ATR = Position Size / Risk\n",
    "    # (Exit - Entry) / ATR = R\n",
    "    # (Exit - Entry) * Position Size / Risk =  R\n",
    "    # As Stop-Loss is static for this exercise, I did not recalculate ATR as price moved.\n",
    "    \n",
    "    if (df['Side'].iloc[0]=='long'):\n",
    "        R = (df[('Day ' + i + ' Close')] - df['Day 1 Open']) * df['Position(R)'] / df['Risk']   \n",
    "    else:\n",
    "        R = (df['Day 1 Open'] - df[('Day ' + i + ' Close')]) * df['Position(R)'] / df['Risk']\n",
    "    if (R.iloc[0] <= -1):\n",
    "        return -1\n",
    "    else:\n",
    "        return R.iloc[0]\n",
    "    \n",
    "def initialize_matrix():\n",
    "    r = pd.DataFrame(index = {'ATR 1', 'ATR 2', 'ATR 3'},columns = {'Day 1','Day 2', 'Day 3', 'Day 4', 'Day 5'})\n",
    "    r = r[['Day 1','Day 2', 'Day 3', 'Day 4', 'Day 5']].sort_index()\n",
    "    hit_rate = pd.DataFrame(index = {'ATR 1', 'ATR 2', 'ATR 3'},columns = {'Day 1','Day 2', 'Day 3', 'Day 4', 'Day 5'})\n",
    "    hit_rate = hit_rate[['Day 1','Day 2', 'Day 3', 'Day 4', 'Day 5']].sort_index()\n",
    "    expectancy = pd.DataFrame(index = {'ATR 1', 'ATR 2', 'ATR 3'},columns = {'Day 1','Day 2', 'Day 3', 'Day 4', 'Day 5'})\n",
    "    expectancy = expectancy[['Day 1','Day 2', 'Day 3', 'Day 4', 'Day 5']].sort_index()\n",
    "    \n",
    "    return r, hit_rate, expectancy\n",
    "    \n",
    "\n",
    "def calculate_R_ATR (df, i, ATR):\n",
    "    \n",
    "    # Risk / ATR =  Position Size \n",
    "    \n",
    "    position = df['Risk'] / (df['Atr'] * ATR)\n",
    "    if (df['Side'].iloc[0]=='long'):\n",
    "        R = ((df[('Day ' + i + ' Close')] - df['Day 1 Open']) * position.iloc[0]) / df['Risk'] \n",
    "    else:\n",
    "        R = ((df['Day 1 Open'] - df[('Day ' + i + ' Close')]) * position.iloc[0]) / df['Risk']\n",
    "    \n",
    "    if (R.iloc[0] <= -1):\n",
    "        return -1    \n",
    "    else:\n",
    "        return R.iloc[0]\n",
    "\n",
    "#2 Hit Ratio and Expectancy\n",
    "def calculate_hit (df, i):\n",
    "    hit_ratio = np.sum(df[('Day ' + str(i+1))] > 0) / len(df[('Day ' + str(i+1))])\n",
    "    return hit_ratio\n",
    "\n",
    "def calculate_exp (r_df,i):\n",
    "    hit_ratio = calculate_hit(r_df,i)\n",
    "    countPlus = 0\n",
    "    countMin = 0\n",
    "    avg_win = 0\n",
    "    avg_loss = 0\n",
    "    \n",
    "    # Winning Amount can be measured with R value. Realized Gains = Risk * Realized R\n",
    "    for j in range(len(r_df)):\n",
    "        if (r_df.iat[j,i] > 0):\n",
    "            avg_win += r_df.iat[j,len(r_df.columns)-1] * r_df.iat[j,i]\n",
    "            countPlus += 1\n",
    "\n",
    "        else:\n",
    "            avg_loss += r_df.iat[j,len(r_df.columns)-1] * r_df.iat[j,i]\n",
    "            countMin += 1\n",
    "\n",
    "    avg_win = avg_win / countPlus\n",
    "    avg_loss = avg_loss / countMin\n",
    "    \n",
    "    expectancy = (hit_ratio * avg_win) + ((1-hit_ratio) * avg_loss)\n",
    "\n",
    "    \n",
    "    return expectancy"
   ]
  },
  {
   "cell_type": "markdown",
   "metadata": {},
   "source": [
    "### Pre-process and Initialize"
   ]
  },
  {
   "cell_type": "code",
   "execution_count": 19,
   "metadata": {},
   "outputs": [],
   "source": [
    "clean_df = clean_table_task2(raw_df) \n",
    "r_df = initialize_r(clean_df)\n",
    "matrix_r, matrix_hit_rate, matrix_expectancy = initialize_matrix()"
   ]
  },
  {
   "cell_type": "markdown",
   "metadata": {},
   "source": [
    "### R Generated Given Trades Were Closed on Day N"
   ]
  },
  {
   "cell_type": "code",
   "execution_count": 20,
   "metadata": {
    "scrolled": true
   },
   "outputs": [
    {
     "name": "stdout",
     "output_type": "stream",
     "text": [
      "Day 1     72.844042\n",
      "Day 2     95.756444\n",
      "Day 3    110.484973\n",
      "Day 4    123.673052\n",
      "Day 5    141.346621\n",
      "dtype: float64\n",
      " \n"
     ]
    },
    {
     "data": {
      "text/plain": [
       "Text(0.5, 1.0, 'R Value Closed on Day N')"
      ]
     },
     "execution_count": 20,
     "metadata": {},
     "output_type": "execute_result"
    },
    {
     "data": {
      "image/png": "[encoded data removed]",
      "text/plain": [
       "<Figure size 432x288 with 1 Axes>"
      ]
     },
     "metadata": {
      "needs_background": "light"
     },
     "output_type": "display_data"
    }
   ],
   "source": [
    "r_df = fill_R(clean_df, r_df, 'day', 0)\n",
    "print(r_df[['Day 1','Day 2', 'Day 3', 'Day 4', 'Day 5']].sum())\n",
    "print(\" \")\n",
    "r_df[['Day 1','Day 2', 'Day 3', 'Day 4', 'Day 5']].sum().plot.bar()\n",
    "plt.ylabel(\"R Value\")\n",
    "plt.title(\"R Value Closed on Day N\")"
   ]
  },
  {
   "cell_type": "markdown",
   "metadata": {},
   "source": [
    "### Hit Rate and Expectancy with Above Scenarios"
   ]
  },
  {
   "cell_type": "code",
   "execution_count": 21,
   "metadata": {},
   "outputs": [
    {
     "name": "stdout",
     "output_type": "stream",
     "text": [
      "Day  1\n",
      "Hit Rate of  0.4948717948717949\n",
      "Expectancy of  -2017.2381974358934\n",
      "\n",
      "Day  2\n",
      "Hit Rate of  0.5076923076923077\n",
      "Expectancy of  -2718.267473076924\n",
      "\n",
      "Day  3\n",
      "Hit Rate of  0.517948717948718\n",
      "Expectancy of  -2995.1858589743592\n",
      "\n",
      "Day  4\n",
      "Hit Rate of  0.48205128205128206\n",
      "Expectancy of  -3091.7692410256423\n",
      "\n",
      "Day  5\n",
      "Hit Rate of  0.4846153846153846\n",
      "Expectancy of  -2435.074129487177\n",
      "\n"
     ]
    },
    {
     "data": {
      "image/png": "[encoded data removed]",
      "text/plain": [
       "<Figure size 432x288 with 1 Axes>"
      ]
     },
     "metadata": {
      "needs_background": "light"
     },
     "output_type": "display_data"
    },
    {
     "data": {
      "image/png": "[encoded data removed]",
      "text/plain": [
       "<Figure size 432x288 with 1 Axes>"
      ]
     },
     "metadata": {
      "needs_background": "light"
     },
     "output_type": "display_data"
    }
   ],
   "source": [
    "day = ['Day 1', 'Day 2', 'Day 3', 'Day 4', 'Day 5']\n",
    "hit_rate_array = []\n",
    "expectancy_array = []\n",
    "for i in range(len(r_df.columns)-1):\n",
    "    Hit_rate = calculate_hit(r_df,i)\n",
    "    hit_rate_array.append(Hit_rate)\n",
    "    Expectancy = calculate_exp(r_df,i)\n",
    "    expectancy_array.append(Expectancy)\n",
    "    print(\"Day \",i+1)\n",
    "    print(\"Hit Rate of \", Hit_rate)\n",
    "    print(\"Expectancy of \", Expectancy)\n",
    "    print(\"\")\n",
    "    \n",
    "plt.plot(day, hit_rate_array)\n",
    "plt.title('Hit Rate by Day')\n",
    "plt.show()\n",
    "plt.plot(day, expectancy_array)\n",
    "plt.title('Expectancy by Day')\n",
    "plt.show()"
   ]
  },
  {
   "cell_type": "markdown",
   "metadata": {},
   "source": [
    "### Matrix of ATR vs Holding Period: R, Hit Rate, Expectancy"
   ]
  },
  {
   "cell_type": "code",
   "execution_count": 22,
   "metadata": {},
   "outputs": [
    {
     "name": "stdout",
     "output_type": "stream",
     "text": [
      "matrix_r\n",
      "         Day 1    Day 2    Day 3    Day 4    Day 5\n",
      "ATR 1  245.156  325.556  364.624  399.696  427.737\n",
      "ATR 2    90.56  121.589  139.296  152.948  166.253\n",
      "ATR 3  44.6185  64.5661  69.4751  81.8785  88.4641\n",
      " \n",
      "matrix_hit_rate\n",
      "          Day 1     Day 2     Day 3     Day 4     Day 5\n",
      "ATR 1  0.494872  0.507692  0.505128  0.471795  0.464103\n",
      "ATR 2  0.494872  0.507692  0.517949  0.479487  0.484615\n",
      "ATR 3  0.494872  0.507692  0.517949  0.482051  0.487179\n",
      " \n",
      "matrix_expectancy\n",
      " \n",
      "         Day 1    Day 2    Day 3    Day 4    Day 5\n",
      "ATR 1 -2813.05 -2108.22 -1433.56  -1363.6 -141.902\n",
      "ATR 2  -2193.9 -2715.85  -3142.2 -3186.03 -2733.36\n",
      "ATR 3 -1604.61  -2069.3 -2587.03 -2940.21 -2902.43\n"
     ]
    }
   ],
   "source": [
    "ATR_r_df = initialize_r(clean_df)\n",
    "for i in range(len(matrix_r)):\n",
    "    ATR_r_df = fill_R(clean_df, ATR_r_df, 'ATR', i+1)\n",
    "    for j in range(len(matrix_r.columns)):\n",
    "        matrix_r.iat[i,j] = ATR_r_df['Day '+ str(j+1)].sum()  \n",
    "        matrix_hit_rate.iat[i,j] = calculate_hit(ATR_r_df, j)\n",
    "        matrix_expectancy.iat[i,j] = calculate_exp(ATR_r_df,j)\n",
    "        \n",
    "print(\"matrix_r\")\n",
    "print(matrix_r)\n",
    "print(\" \")\n",
    "print(\"matrix_hit_rate\")\n",
    "print(matrix_hit_rate)\n",
    "print(\" \")\n",
    "print(\"matrix_expectancy\")\n",
    "print(\" \")\n",
    "print(matrix_expectancy)"
   ]
  },
  {
   "cell_type": "markdown",
   "metadata": {},
   "source": [
    "## Further Analysis on Loss Trades\n",
    "\n",
    "* Wanted to see if there was a great Market Influce during loss trades.\n",
    "* Market Influence meaning that idiosyncratic movement was overpowered by the general index movement.\n",
    "* Analysis is based on London Exchange where the most loss was generated.\n",
    "* Main point is to seek a method to hedge away some of the risks."
   ]
  },
  {
   "cell_type": "code",
   "execution_count": 156,
   "metadata": {},
   "outputs": [],
   "source": [
    "LSE_df = PnL[PnL['Market'] == 'London'].reset_index(drop = True)\n",
    "LSE_df.loc[:,'Exchange'] = 'LSE'\n",
    "LSE_df.loc[:,'Index Performance (%)'] = 0.00\n",
    "LSE_df.loc[:,'Index Performance (Up/Down)'] = 'Down'\n",
    "LSE_df.loc[:,'Trade Performance (Up/Down)'] = 'Loss'"
   ]
  },
  {
   "cell_type": "code",
   "execution_count": 157,
   "metadata": {},
   "outputs": [],
   "source": [
    "Earliest = str(sorted(PnL['Entry Date'])[0])[:10]\n",
    "Latest = str(sorted(PnL['Exit Date'])[len(PnL)-1])[:10]\n",
    "LSE_data = fdr.DataReader('UK100', Earliest, Latest).reset_index()"
   ]
  },
  {
   "cell_type": "code",
   "execution_count": 158,
   "metadata": {},
   "outputs": [
    {
     "data": {
      "text/html": [
       "<div>\n",
       "<style scoped>\n",
       "    .dataframe tbody tr th:only-of-type {\n",
       "        vertical-align: middle;\n",
       "    }\n",
       "\n",
       "    .dataframe tbody tr th {\n",
       "        vertical-align: top;\n",
       "    }\n",
       "\n",
       "    .dataframe thead th {\n",
       "        text-align: right;\n",
       "    }\n",
       "</style>\n",
       "<table border=\"1\" class=\"dataframe\">\n",
       "  <thead>\n",
       "    <tr style=\"text-align: right;\">\n",
       "      <th></th>\n",
       "      <th>Date</th>\n",
       "      <th>Close</th>\n",
       "      <th>Open</th>\n",
       "      <th>High</th>\n",
       "      <th>Low</th>\n",
       "      <th>Volume</th>\n",
       "      <th>Change</th>\n",
       "    </tr>\n",
       "  </thead>\n",
       "  <tbody>\n",
       "    <tr>\n",
       "      <th>0</th>\n",
       "      <td>2020-11-05</td>\n",
       "      <td>5906.18</td>\n",
       "      <td>5883.26</td>\n",
       "      <td>5933.05</td>\n",
       "      <td>5881.87</td>\n",
       "      <td>9.000000e+08</td>\n",
       "      <td>0.0039</td>\n",
       "    </tr>\n",
       "    <tr>\n",
       "      <th>1</th>\n",
       "      <td>2020-11-06</td>\n",
       "      <td>5910.02</td>\n",
       "      <td>5906.18</td>\n",
       "      <td>5950.22</td>\n",
       "      <td>5858.48</td>\n",
       "      <td>8.484800e+08</td>\n",
       "      <td>0.0007</td>\n",
       "    </tr>\n",
       "    <tr>\n",
       "      <th>2</th>\n",
       "      <td>2020-11-09</td>\n",
       "      <td>6186.29</td>\n",
       "      <td>5910.02</td>\n",
       "      <td>6258.31</td>\n",
       "      <td>5910.02</td>\n",
       "      <td>2.070000e+09</td>\n",
       "      <td>0.0467</td>\n",
       "    </tr>\n",
       "    <tr>\n",
       "      <th>3</th>\n",
       "      <td>2020-11-10</td>\n",
       "      <td>6296.85</td>\n",
       "      <td>6186.29</td>\n",
       "      <td>6307.00</td>\n",
       "      <td>6180.47</td>\n",
       "      <td>1.710000e+09</td>\n",
       "      <td>0.0179</td>\n",
       "    </tr>\n",
       "    <tr>\n",
       "      <th>4</th>\n",
       "      <td>2020-11-11</td>\n",
       "      <td>6382.10</td>\n",
       "      <td>6296.85</td>\n",
       "      <td>6397.28</td>\n",
       "      <td>6293.21</td>\n",
       "      <td>1.280000e+09</td>\n",
       "      <td>0.0135</td>\n",
       "    </tr>\n",
       "    <tr>\n",
       "      <th>...</th>\n",
       "      <td>...</td>\n",
       "      <td>...</td>\n",
       "      <td>...</td>\n",
       "      <td>...</td>\n",
       "      <td>...</td>\n",
       "      <td>...</td>\n",
       "      <td>...</td>\n",
       "    </tr>\n",
       "    <tr>\n",
       "      <th>73</th>\n",
       "      <td>2021-02-19</td>\n",
       "      <td>6624.02</td>\n",
       "      <td>6617.15</td>\n",
       "      <td>6646.16</td>\n",
       "      <td>6600.59</td>\n",
       "      <td>9.639200e+08</td>\n",
       "      <td>0.0010</td>\n",
       "    </tr>\n",
       "    <tr>\n",
       "      <th>74</th>\n",
       "      <td>2021-02-22</td>\n",
       "      <td>6612.24</td>\n",
       "      <td>6624.02</td>\n",
       "      <td>6624.71</td>\n",
       "      <td>6545.93</td>\n",
       "      <td>8.463500e+08</td>\n",
       "      <td>-0.0018</td>\n",
       "    </tr>\n",
       "    <tr>\n",
       "      <th>75</th>\n",
       "      <td>2021-02-23</td>\n",
       "      <td>6625.94</td>\n",
       "      <td>6612.24</td>\n",
       "      <td>6675.42</td>\n",
       "      <td>6555.88</td>\n",
       "      <td>1.150000e+09</td>\n",
       "      <td>0.0021</td>\n",
       "    </tr>\n",
       "    <tr>\n",
       "      <th>76</th>\n",
       "      <td>2021-02-24</td>\n",
       "      <td>6658.97</td>\n",
       "      <td>6625.94</td>\n",
       "      <td>6669.86</td>\n",
       "      <td>6572.28</td>\n",
       "      <td>1.140000e+09</td>\n",
       "      <td>0.0050</td>\n",
       "    </tr>\n",
       "    <tr>\n",
       "      <th>77</th>\n",
       "      <td>2021-02-25</td>\n",
       "      <td>6651.96</td>\n",
       "      <td>6658.97</td>\n",
       "      <td>6702.88</td>\n",
       "      <td>6644.68</td>\n",
       "      <td>8.524700e+08</td>\n",
       "      <td>-0.0011</td>\n",
       "    </tr>\n",
       "  </tbody>\n",
       "</table>\n",
       "<p>78 rows × 7 columns</p>\n",
       "</div>"
      ],
      "text/plain": [
       "         Date    Close     Open     High      Low        Volume  Change\n",
       "0  2020-11-05  5906.18  5883.26  5933.05  5881.87  9.000000e+08  0.0039\n",
       "1  2020-11-06  5910.02  5906.18  5950.22  5858.48  8.484800e+08  0.0007\n",
       "2  2020-11-09  6186.29  5910.02  6258.31  5910.02  2.070000e+09  0.0467\n",
       "3  2020-11-10  6296.85  6186.29  6307.00  6180.47  1.710000e+09  0.0179\n",
       "4  2020-11-11  6382.10  6296.85  6397.28  6293.21  1.280000e+09  0.0135\n",
       "..        ...      ...      ...      ...      ...           ...     ...\n",
       "73 2021-02-19  6624.02  6617.15  6646.16  6600.59  9.639200e+08  0.0010\n",
       "74 2021-02-22  6612.24  6624.02  6624.71  6545.93  8.463500e+08 -0.0018\n",
       "75 2021-02-23  6625.94  6612.24  6675.42  6555.88  1.150000e+09  0.0021\n",
       "76 2021-02-24  6658.97  6625.94  6669.86  6572.28  1.140000e+09  0.0050\n",
       "77 2021-02-25  6651.96  6658.97  6702.88  6644.68  8.524700e+08 -0.0011\n",
       "\n",
       "[78 rows x 7 columns]"
      ]
     },
     "execution_count": 158,
     "metadata": {},
     "output_type": "execute_result"
    }
   ],
   "source": [
    "LSE_data"
   ]
  },
  {
   "cell_type": "code",
   "execution_count": 166,
   "metadata": {},
   "outputs": [
    {
     "data": {
      "text/plain": [
       "Side   Index Performance (Up/Down)  Trade Performance (Up/Down)\n",
       "long   Down                         Loss                           8\n",
       "                                    Profit                         2\n",
       "       Up                           Loss                           1\n",
       "                                    Profit                         1\n",
       "short  Down                         Loss                           1\n",
       "                                    Profit                         1\n",
       "       Up                           Loss                           1\n",
       "Name: Ticker, dtype: int64"
      ]
     },
     "execution_count": 166,
     "metadata": {},
     "output_type": "execute_result"
    }
   ],
   "source": [
    "# When You Long but it falls down due to market fall\n",
    "for i in range(len(LSE_df)):\n",
    "    entry_date_uk = LSE_df.iloc[i, LSE_df.columns.get_loc('Entry Date')]\n",
    "    exit_date_uk = LSE_df.iloc[i, LSE_df.columns.get_loc('Exit Date')]\n",
    "    LSE_open_date = LSE_data[LSE_data['Date'] == entry_date_uk].index[0]\n",
    "    LSE_close_date  = LSE_data[LSE_data['Date'] == exit_date_uk].index[0]\n",
    "    LSE_open_price = LSE_data.iloc[LSE_open_date, LSE_data.columns.get_loc('Open')]\n",
    "    LSE_close_price = LSE_data.iloc[LSE_close_date, LSE_data.columns.get_loc('Close')]\n",
    "    index_performance = 100 * (LSE_close_price - LSE_open_price) / LSE_open_price \n",
    "    LSE_df.iat[i, LSE_df.columns.get_loc('Index Performance (%)')] =  index_performance\n",
    "    if (index_performance > 0 ):\n",
    "        LSE_df.iat[i, LSE_df.columns.get_loc('Index Performance (Up/Down)')] = 'Up'\n",
    "\n",
    "for i in range(len(LSE_df)):\n",
    "    if (LSE_df['Realized gains'][i] > 0 ):\n",
    "        LSE_df.iat[i, USA_df.columns.get_loc('Trade Performance (Up/Down)')] = 'Profit'\n",
    "    \n",
    "LSE_df = LSE_df.round({'Index Performance (%)':5})\n",
    "LSE_df.groupby(['Side','Index Performance (Up/Down)','Trade Performance (Up/Down)'])['Ticker'].count()"
   ]
  },
  {
   "cell_type": "markdown",
   "metadata": {},
   "source": [
    "### Potential Hedging Strategy\n",
    "* Trade Performance is quite indifferent to Index Performance except for when you long while Index is dropping.\n",
    "* This, with great caution, may be translated as that those long strategies may have higher beta risk on the downside.\n",
    "* Hence, idiosyncratic event movement is overpowered by the index dropping.\n",
    "* This risk may be hedged away by shorting the index.\n",
    "* However, I have too little of data to make a conclusion; with further research I may be able to conclude."
   ]
  }
 ],
 "metadata": {
  "kernelspec": {
   "display_name": "Python 3",
   "language": "python",
   "name": "python3"
  },
  "language_info": {
   "codemirror_mode": {
    "name": "ipython",
    "version": 3
   },
   "file_extension": ".py",
   "mimetype": "text/x-python",
   "name": "python",
   "nbconvert_exporter": "python",
   "pygments_lexer": "ipython3",
   "version": "3.7.6"
  }
 },
 "nbformat": 4,
 "nbformat_minor": 4
}
